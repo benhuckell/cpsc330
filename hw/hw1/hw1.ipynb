{
 "cells": [
  {
   "cell_type": "markdown",
   "source": [
    "# CPSC 330 - Applied Machine Learning \n",
    "\n",
    "## Homework 1: Programming with Python  \n",
    "\n",
    "**Due date: Tuesday Sep 14, 2021 at 11:59pm.**"
   ],
   "metadata": {}
  },
  {
   "cell_type": "markdown",
   "source": [
    "### About this assignment:\n",
    "The main purpose of this assignment is to check whether your programming knowledge is adequate to take CPSC 330. This assignment covers two python packages, `numpy` and `pandas`, which we'll be using throughout the course. For some of you, Python/numpy/pandas will be familiar; for others, it will be new. Either way, if you find this assignment very difficult then that could be a sign that you will struggle later on in the course. While CPSC 330 is a machine learning course rather than a programming course, programming will be an essential part of it.\n",
    "\n",
    "Also, as part of this assignment you will likely need to consult the documentation for various Python packages we're using. This is, of course, totally OK and in fact strongly encouraged. Reading and interpreting documentation is an important skill, and in fact is one of the skills this assignment is meant to assess. For Python refresher, check out [Python notes](https://ubc-cs.github.io/cpsc330/docs/python_notes.html) and [Python resources](https://ubc-cs.github.io/cpsc330/docs/resources.html#python-resources). "
   ],
   "metadata": {}
  },
  {
   "cell_type": "markdown",
   "source": [
    "### Set-up\n",
    "\n",
    "In order to do this assignment, you will need to set up the CPSC 330 software stack, which is Python and Jupyter. For software install help, see [here](https://ubc-cs.github.io/cpsc330/docs/setup.html). One you have the software stack installed, you should be able to run the next cell, which imports some packages needed for the assignment."
   ],
   "metadata": {}
  },
  {
   "cell_type": "markdown",
   "source": [
    "Imports\n",
    "------"
   ],
   "metadata": {}
  },
  {
   "cell_type": "code",
   "execution_count": 8,
   "source": [
    "import matplotlib.pyplot as plt\r\n",
    "import numpy as np\r\n",
    "import pandas as pd\r\n",
    "import sys\r\n",
    "import os"
   ],
   "outputs": [],
   "metadata": {}
  },
  {
   "cell_type": "markdown",
   "source": [
    "Points\n",
    "------\n",
    "\n",
    "Each question or sub-question will have a number of points allocated to it, which is indicated right below the question name. "
   ],
   "metadata": {}
  },
  {
   "cell_type": "markdown",
   "source": [
    "## Instructions\n",
    "rubric={points:6}\n",
    "\n",
    "Follow the [CPSC 330 homework instructions](https://ubc-cs.github.io/cpsc330/docs/homework_instructions.html), which include information on how to do your assignment and how to submit your assignment. "
   ],
   "metadata": {}
  },
  {
   "cell_type": "markdown",
   "source": [
    "<br><br>"
   ],
   "metadata": {}
  },
  {
   "cell_type": "markdown",
   "source": [
    "## Exercise 1: Loading files with Pandas\n",
    "rubric={points:12}\n",
    "\n",
    "When working with tabular data, you will typically be creating Pandas dataframes by reading data from .csv files using `pd.read_csv()`. The documentation for this function is available [here](https://pandas.pydata.org/pandas-docs/stable/reference/api/pandas.read_csv.html)."
   ],
   "metadata": {
    "toc-hr-collapsed": true
   }
  },
  {
   "cell_type": "markdown",
   "source": [
    "In the \"data\" folder in this homework repository there are 6 different .csv files named `wine_#.csv/.txt`. Look at each of these files and use `pd.read_csv()` to load these data so that they resemble the following:\n",
    "\n",
    "| Bottle | Grape | Origin | Alcohol | pH | Colour | Aroma |\n",
    "| :---: | :---: | :---: | :---: | :---: | :---: | :---: |\n",
    "| 1 |  Chardonnay | Australia | 14.23 | 3.51 | White | Floral |\n",
    "| 2 |  Pinot Grigio | Italy | 13.20 | 3.30 | White | Fruity |\n",
    "| 3 |  Pinot Blanc | France | 13.16 | 3.16 | White | Citrus |\n",
    "| 4 |  Shiraz | Chile | 14.91 | 3.39 | Red | Berry |\n",
    "| 5 |  Malbec | Argentina | 13.83 | 3.28 | Red | Fruity |\n",
    "\n",
    "You are provided with tests that use `df.equals()` to check that all the dataframes are identical. If you're in a situation where the two dataframes look identical but `df.equals()` is returning `False`, it may be an issue of types - try checking `df.index`, `df.columns`, or `df.info()`."
   ],
   "metadata": {
    "nbgrader": {
     "grade": false,
     "grade_id": "cell-e9d5646932eee4f9",
     "locked": true,
     "schema_version": 3,
     "solution": false
    }
   }
  },
  {
   "cell_type": "code",
   "execution_count": 52,
   "source": [
    "# Load in all datasets\r\n",
    "df1 = pd.read_csv(\"data\\wine_1.csv\")\r\n",
    "df2 = pd.read_csv(\"data\\wine_2.csv\", header=1)\r\n",
    "df3 = pd.read_csv(\"data\\wine_3.csv\", skiprows=[6,7])\r\n",
    "df4 = pd.read_csv(\"data\\wine_4.txt\", sep = \"\\t\")\r\n",
    "df5 = pd.read_csv(\"data\\wine_5.csv\", usecols=range(7))\r\n",
    "df6 = pd.read_csv(\"data\\wine_6.txt\", sep = \"\\t\", header=1, skiprows=[7,8], usecols=range(1,8))"
   ],
   "outputs": [],
   "metadata": {}
  },
  {
   "cell_type": "code",
   "execution_count": 51,
   "source": [
    "for i, df in enumerate([df2, df3, df4, df5, df6]):\r\n",
    "    assert df1.equals(df), f\"df1 not equal to df{i + 2}\"\r\n",
    "print(\"All tests passed.\")"
   ],
   "outputs": [
    {
     "output_type": "stream",
     "name": "stdout",
     "text": [
      "All tests passed.\n"
     ]
    }
   ],
   "metadata": {}
  },
  {
   "cell_type": "code",
   "execution_count": null,
   "source": [
    "df"
   ],
   "outputs": [],
   "metadata": {}
  },
  {
   "cell_type": "markdown",
   "source": [
    "<br><br>"
   ],
   "metadata": {}
  },
  {
   "cell_type": "markdown",
   "source": [
    "## Exercise 2: The Titanic dataset\n",
    "\n",
    "The file *titanic.csv* contains data of 1309 passengers who were on the Titanic's unfortunate voyage. For each passenger, the following data are recorded:\n",
    "\n",
    "* survival - Survival (0 = No; 1 = Yes)\n",
    "* class - Passenger Class (1 = 1st; 2 = 2nd; 3 = 3rd)\n",
    "* name - Name\n",
    "* sex - Sex\n",
    "* age - Age\n",
    "* sibsp - Number of Siblings/Spouses Aboard\n",
    "* parch - Number of Parents/Children Aboard\n",
    "* ticket - Ticket Number\n",
    "* fare - Passenger Fare\n",
    "* cabin - Cabin\n",
    "* embarked - Port of Embarkation (C = Cherbourg; Q = Queenstown; S = Southampton)\n",
    "* boat - Lifeboat (if survived)\n",
    "* body - Body number (if did not survive and body was recovered)\n",
    "\n",
    "In this exercise you will perform a number of wrangling operations to manipulate and extract subsets of the data.\n",
    "\n",
    "Note: many popular datasets have sex as a feature where the possible values are male and female. This representation reflects how the data were collected and is not meant to imply that, for example, gender is binary."
   ],
   "metadata": {
    "toc-hr-collapsed": true
   }
  },
  {
   "cell_type": "markdown",
   "source": [
    "#### 2(a)\n",
    "rubric={points:1}\n",
    "\n",
    "Load the `titanic.csv` dataset into a pandas dataframe named `titanic_df`."
   ],
   "metadata": {
    "nbgrader": {
     "grade": false,
     "grade_id": "cell-8f49a0571a8d666f",
     "locked": true,
     "schema_version": 3,
     "solution": false
    }
   }
  },
  {
   "cell_type": "code",
   "execution_count": 57,
   "source": [
    "#Load in Titanic dataset\r\n",
    "titanic_df = pd.read_csv(\"data\\\\titanic.csv\")\r\n",
    "titanic_df"
   ],
   "outputs": [
    {
     "output_type": "execute_result",
     "data": {
      "text/html": [
       "<div>\n",
       "<style scoped>\n",
       "    .dataframe tbody tr th:only-of-type {\n",
       "        vertical-align: middle;\n",
       "    }\n",
       "\n",
       "    .dataframe tbody tr th {\n",
       "        vertical-align: top;\n",
       "    }\n",
       "\n",
       "    .dataframe thead th {\n",
       "        text-align: right;\n",
       "    }\n",
       "</style>\n",
       "<table border=\"1\" class=\"dataframe\">\n",
       "  <thead>\n",
       "    <tr style=\"text-align: right;\">\n",
       "      <th></th>\n",
       "      <th>pclass</th>\n",
       "      <th>survived</th>\n",
       "      <th>name</th>\n",
       "      <th>sex</th>\n",
       "      <th>age</th>\n",
       "      <th>sibsp</th>\n",
       "      <th>parch</th>\n",
       "      <th>ticket</th>\n",
       "      <th>fare</th>\n",
       "      <th>cabin</th>\n",
       "      <th>embarked</th>\n",
       "      <th>boat</th>\n",
       "      <th>body</th>\n",
       "      <th>home.dest</th>\n",
       "    </tr>\n",
       "  </thead>\n",
       "  <tbody>\n",
       "    <tr>\n",
       "      <th>0</th>\n",
       "      <td>1</td>\n",
       "      <td>1</td>\n",
       "      <td>Allen, Miss. Elisabeth Walton</td>\n",
       "      <td>female</td>\n",
       "      <td>29.0000</td>\n",
       "      <td>0</td>\n",
       "      <td>0</td>\n",
       "      <td>24160</td>\n",
       "      <td>211.3375</td>\n",
       "      <td>B5</td>\n",
       "      <td>S</td>\n",
       "      <td>2</td>\n",
       "      <td>NaN</td>\n",
       "      <td>St Louis, MO</td>\n",
       "    </tr>\n",
       "    <tr>\n",
       "      <th>1</th>\n",
       "      <td>1</td>\n",
       "      <td>1</td>\n",
       "      <td>Allison, Master. Hudson Trevor</td>\n",
       "      <td>male</td>\n",
       "      <td>0.9167</td>\n",
       "      <td>1</td>\n",
       "      <td>2</td>\n",
       "      <td>113781</td>\n",
       "      <td>151.5500</td>\n",
       "      <td>C22 C26</td>\n",
       "      <td>S</td>\n",
       "      <td>11</td>\n",
       "      <td>NaN</td>\n",
       "      <td>Montreal, PQ / Chesterville, ON</td>\n",
       "    </tr>\n",
       "    <tr>\n",
       "      <th>2</th>\n",
       "      <td>1</td>\n",
       "      <td>0</td>\n",
       "      <td>Allison, Miss. Helen Loraine</td>\n",
       "      <td>female</td>\n",
       "      <td>2.0000</td>\n",
       "      <td>1</td>\n",
       "      <td>2</td>\n",
       "      <td>113781</td>\n",
       "      <td>151.5500</td>\n",
       "      <td>C22 C26</td>\n",
       "      <td>S</td>\n",
       "      <td>NaN</td>\n",
       "      <td>NaN</td>\n",
       "      <td>Montreal, PQ / Chesterville, ON</td>\n",
       "    </tr>\n",
       "    <tr>\n",
       "      <th>3</th>\n",
       "      <td>1</td>\n",
       "      <td>0</td>\n",
       "      <td>Allison, Mr. Hudson Joshua Creighton</td>\n",
       "      <td>male</td>\n",
       "      <td>30.0000</td>\n",
       "      <td>1</td>\n",
       "      <td>2</td>\n",
       "      <td>113781</td>\n",
       "      <td>151.5500</td>\n",
       "      <td>C22 C26</td>\n",
       "      <td>S</td>\n",
       "      <td>NaN</td>\n",
       "      <td>135.0</td>\n",
       "      <td>Montreal, PQ / Chesterville, ON</td>\n",
       "    </tr>\n",
       "    <tr>\n",
       "      <th>4</th>\n",
       "      <td>1</td>\n",
       "      <td>0</td>\n",
       "      <td>Allison, Mrs. Hudson J C (Bessie Waldo Daniels)</td>\n",
       "      <td>female</td>\n",
       "      <td>25.0000</td>\n",
       "      <td>1</td>\n",
       "      <td>2</td>\n",
       "      <td>113781</td>\n",
       "      <td>151.5500</td>\n",
       "      <td>C22 C26</td>\n",
       "      <td>S</td>\n",
       "      <td>NaN</td>\n",
       "      <td>NaN</td>\n",
       "      <td>Montreal, PQ / Chesterville, ON</td>\n",
       "    </tr>\n",
       "    <tr>\n",
       "      <th>...</th>\n",
       "      <td>...</td>\n",
       "      <td>...</td>\n",
       "      <td>...</td>\n",
       "      <td>...</td>\n",
       "      <td>...</td>\n",
       "      <td>...</td>\n",
       "      <td>...</td>\n",
       "      <td>...</td>\n",
       "      <td>...</td>\n",
       "      <td>...</td>\n",
       "      <td>...</td>\n",
       "      <td>...</td>\n",
       "      <td>...</td>\n",
       "      <td>...</td>\n",
       "    </tr>\n",
       "    <tr>\n",
       "      <th>1304</th>\n",
       "      <td>3</td>\n",
       "      <td>0</td>\n",
       "      <td>Zabour, Miss. Hileni</td>\n",
       "      <td>female</td>\n",
       "      <td>14.5000</td>\n",
       "      <td>1</td>\n",
       "      <td>0</td>\n",
       "      <td>2665</td>\n",
       "      <td>14.4542</td>\n",
       "      <td>NaN</td>\n",
       "      <td>C</td>\n",
       "      <td>NaN</td>\n",
       "      <td>328.0</td>\n",
       "      <td>NaN</td>\n",
       "    </tr>\n",
       "    <tr>\n",
       "      <th>1305</th>\n",
       "      <td>3</td>\n",
       "      <td>0</td>\n",
       "      <td>Zabour, Miss. Thamine</td>\n",
       "      <td>female</td>\n",
       "      <td>NaN</td>\n",
       "      <td>1</td>\n",
       "      <td>0</td>\n",
       "      <td>2665</td>\n",
       "      <td>14.4542</td>\n",
       "      <td>NaN</td>\n",
       "      <td>C</td>\n",
       "      <td>NaN</td>\n",
       "      <td>NaN</td>\n",
       "      <td>NaN</td>\n",
       "    </tr>\n",
       "    <tr>\n",
       "      <th>1306</th>\n",
       "      <td>3</td>\n",
       "      <td>0</td>\n",
       "      <td>Zakarian, Mr. Mapriededer</td>\n",
       "      <td>male</td>\n",
       "      <td>26.5000</td>\n",
       "      <td>0</td>\n",
       "      <td>0</td>\n",
       "      <td>2656</td>\n",
       "      <td>7.2250</td>\n",
       "      <td>NaN</td>\n",
       "      <td>C</td>\n",
       "      <td>NaN</td>\n",
       "      <td>304.0</td>\n",
       "      <td>NaN</td>\n",
       "    </tr>\n",
       "    <tr>\n",
       "      <th>1307</th>\n",
       "      <td>3</td>\n",
       "      <td>0</td>\n",
       "      <td>Zakarian, Mr. Ortin</td>\n",
       "      <td>male</td>\n",
       "      <td>27.0000</td>\n",
       "      <td>0</td>\n",
       "      <td>0</td>\n",
       "      <td>2670</td>\n",
       "      <td>7.2250</td>\n",
       "      <td>NaN</td>\n",
       "      <td>C</td>\n",
       "      <td>NaN</td>\n",
       "      <td>NaN</td>\n",
       "      <td>NaN</td>\n",
       "    </tr>\n",
       "    <tr>\n",
       "      <th>1308</th>\n",
       "      <td>3</td>\n",
       "      <td>0</td>\n",
       "      <td>Zimmerman, Mr. Leo</td>\n",
       "      <td>male</td>\n",
       "      <td>29.0000</td>\n",
       "      <td>0</td>\n",
       "      <td>0</td>\n",
       "      <td>315082</td>\n",
       "      <td>7.8750</td>\n",
       "      <td>NaN</td>\n",
       "      <td>S</td>\n",
       "      <td>NaN</td>\n",
       "      <td>NaN</td>\n",
       "      <td>NaN</td>\n",
       "    </tr>\n",
       "  </tbody>\n",
       "</table>\n",
       "<p>1309 rows × 14 columns</p>\n",
       "</div>"
      ],
      "text/plain": [
       "      pclass  survived                                             name  \\\n",
       "0          1         1                    Allen, Miss. Elisabeth Walton   \n",
       "1          1         1                   Allison, Master. Hudson Trevor   \n",
       "2          1         0                     Allison, Miss. Helen Loraine   \n",
       "3          1         0             Allison, Mr. Hudson Joshua Creighton   \n",
       "4          1         0  Allison, Mrs. Hudson J C (Bessie Waldo Daniels)   \n",
       "...      ...       ...                                              ...   \n",
       "1304       3         0                             Zabour, Miss. Hileni   \n",
       "1305       3         0                            Zabour, Miss. Thamine   \n",
       "1306       3         0                        Zakarian, Mr. Mapriededer   \n",
       "1307       3         0                              Zakarian, Mr. Ortin   \n",
       "1308       3         0                               Zimmerman, Mr. Leo   \n",
       "\n",
       "         sex      age  sibsp  parch  ticket      fare    cabin embarked boat  \\\n",
       "0     female  29.0000      0      0   24160  211.3375       B5        S    2   \n",
       "1       male   0.9167      1      2  113781  151.5500  C22 C26        S   11   \n",
       "2     female   2.0000      1      2  113781  151.5500  C22 C26        S  NaN   \n",
       "3       male  30.0000      1      2  113781  151.5500  C22 C26        S  NaN   \n",
       "4     female  25.0000      1      2  113781  151.5500  C22 C26        S  NaN   \n",
       "...      ...      ...    ...    ...     ...       ...      ...      ...  ...   \n",
       "1304  female  14.5000      1      0    2665   14.4542      NaN        C  NaN   \n",
       "1305  female      NaN      1      0    2665   14.4542      NaN        C  NaN   \n",
       "1306    male  26.5000      0      0    2656    7.2250      NaN        C  NaN   \n",
       "1307    male  27.0000      0      0    2670    7.2250      NaN        C  NaN   \n",
       "1308    male  29.0000      0      0  315082    7.8750      NaN        S  NaN   \n",
       "\n",
       "       body                        home.dest  \n",
       "0       NaN                     St Louis, MO  \n",
       "1       NaN  Montreal, PQ / Chesterville, ON  \n",
       "2       NaN  Montreal, PQ / Chesterville, ON  \n",
       "3     135.0  Montreal, PQ / Chesterville, ON  \n",
       "4       NaN  Montreal, PQ / Chesterville, ON  \n",
       "...     ...                              ...  \n",
       "1304  328.0                              NaN  \n",
       "1305    NaN                              NaN  \n",
       "1306  304.0                              NaN  \n",
       "1307    NaN                              NaN  \n",
       "1308    NaN                              NaN  \n",
       "\n",
       "[1309 rows x 14 columns]"
      ]
     },
     "metadata": {},
     "execution_count": 57
    }
   ],
   "metadata": {
    "nbgrader": {
     "grade": false,
     "grade_id": "cell-b6e4d3bb99cced81",
     "locked": false,
     "schema_version": 3,
     "solution": true
    }
   }
  },
  {
   "cell_type": "code",
   "execution_count": 56,
   "source": [
    "assert set(titanic_df.columns) == set(\r\n",
    "    [\r\n",
    "        \"pclass\",\r\n",
    "        \"survived\",\r\n",
    "        \"name\",\r\n",
    "        \"sex\",\r\n",
    "        \"age\",\r\n",
    "        \"sibsp\",\r\n",
    "        \"parch\",\r\n",
    "        \"ticket\",\r\n",
    "        \"fare\",\r\n",
    "        \"cabin\",\r\n",
    "        \"embarked\",\r\n",
    "        \"boat\",\r\n",
    "        \"body\",\r\n",
    "        \"home.dest\",\r\n",
    "    ]\r\n",
    "), \"All required columns are not present\"\r\n",
    "assert len(titanic_df.index) == 1309, \"Wrong number of rows in dataframe\"\r\n",
    "print(\"Success\")"
   ],
   "outputs": [
    {
     "output_type": "stream",
     "name": "stdout",
     "text": [
      "Success\n"
     ]
    }
   ],
   "metadata": {
    "nbgrader": {
     "grade": true,
     "grade_id": "cell-0abb41f189217e1a",
     "locked": true,
     "points": 1,
     "schema_version": 3,
     "solution": false
    }
   }
  },
  {
   "cell_type": "markdown",
   "source": [
    "#### 2(b)\n",
    "rubric={points:2}\n",
    "\n",
    "The column names `sibsp` and `parch` are not very descriptive. Use `df.rename()` to rename these columns to `siblings_spouses` and `parents_children` respectively."
   ],
   "metadata": {
    "nbgrader": {
     "grade": false,
     "grade_id": "cell-093e1ca409a216a2",
     "locked": true,
     "schema_version": 3,
     "solution": false
    }
   }
  },
  {
   "cell_type": "code",
   "execution_count": 64,
   "source": [
    "#Rename columns\r\n",
    "titanic_df = titanic_df.rename(columns={\"sibsp\":\"siblings_spouses\", \"parch\":\"parents_children\"})"
   ],
   "outputs": [],
   "metadata": {
    "nbgrader": {
     "grade": false,
     "grade_id": "cell-99e694773668d8a1",
     "locked": false,
     "schema_version": 3,
     "solution": true
    }
   }
  },
  {
   "cell_type": "code",
   "execution_count": 61,
   "source": [
    "assert set([\"siblings_spouses\", \"parents_children\"]).issubset(\r\n",
    "    titanic_df.columns\r\n",
    "), \"Column names were not changed properly\"\r\n",
    "print(\"Success\")"
   ],
   "outputs": [
    {
     "output_type": "stream",
     "name": "stdout",
     "text": [
      "Success\n"
     ]
    }
   ],
   "metadata": {
    "nbgrader": {
     "grade": true,
     "grade_id": "cell-6c0798bceeeab962",
     "locked": true,
     "points": 1,
     "schema_version": 3,
     "solution": false
    }
   }
  },
  {
   "cell_type": "markdown",
   "source": [
    "#### 2(c)\n",
    "rubric={points:2}\n",
    "\n",
    "We will practice indexing different subsets of the dataframe in the following questions.\n",
    "\n",
    "Select the column `age` using single bracket notation `[]`. What type of object is returned?"
   ],
   "metadata": {
    "nbgrader": {
     "grade": false,
     "grade_id": "cell-35f94190fc8af3fb",
     "locked": true,
     "schema_version": 3,
     "solution": false
    }
   }
  },
  {
   "cell_type": "code",
   "execution_count": 65,
   "source": [
    "# Print type of subset object -> Pandas Series is returned\r\n",
    "type(titanic_df[\"age\"])"
   ],
   "outputs": [
    {
     "output_type": "execute_result",
     "data": {
      "text/plain": [
       "pandas.core.series.Series"
      ]
     },
     "metadata": {},
     "execution_count": 65
    }
   ],
   "metadata": {
    "nbgrader": {
     "grade": true,
     "grade_id": "cell-18b067281f9e13ac",
     "locked": false,
     "points": 0,
     "schema_version": 3,
     "solution": true
    }
   }
  },
  {
   "cell_type": "markdown",
   "source": [
    "#### 2(d)\n",
    "rubric={points:2}\n",
    "\n",
    "Now select the `age` using double bracket notation `[[]]`. What type of object is returned?"
   ],
   "metadata": {
    "nbgrader": {
     "grade": false,
     "grade_id": "cell-5b123152df1d576a",
     "locked": true,
     "schema_version": 3,
     "solution": false
    }
   }
  },
  {
   "cell_type": "code",
   "execution_count": 66,
   "source": [
    "# Now a Dataframe is once again returned instead of a series\r\n",
    "type(titanic_df[[\"age\"]])"
   ],
   "outputs": [
    {
     "output_type": "execute_result",
     "data": {
      "text/plain": [
       "pandas.core.frame.DataFrame"
      ]
     },
     "metadata": {},
     "execution_count": 66
    }
   ],
   "metadata": {
    "nbgrader": {
     "grade": true,
     "grade_id": "cell-0d32262f000b09f4",
     "locked": false,
     "points": 0,
     "schema_version": 3,
     "solution": true
    }
   }
  },
  {
   "cell_type": "markdown",
   "source": [
    "#### 2(e)\n",
    "rubric={points:1}\n",
    "\n",
    "Select the columns `pclass`, `survived`, and `age` using a single line of code."
   ],
   "metadata": {
    "nbgrader": {
     "grade": false,
     "grade_id": "cell-5b9513513d0b0e22",
     "locked": true,
     "schema_version": 3,
     "solution": false
    }
   }
  },
  {
   "cell_type": "code",
   "execution_count": 68,
   "source": [
    "# Select subset and return a dataframe\r\n",
    "subset_cols = titanic_df[[\"pclass\",\"survived\",\"age\"]]\r\n",
    "subset_cols"
   ],
   "outputs": [
    {
     "output_type": "execute_result",
     "data": {
      "text/html": [
       "<div>\n",
       "<style scoped>\n",
       "    .dataframe tbody tr th:only-of-type {\n",
       "        vertical-align: middle;\n",
       "    }\n",
       "\n",
       "    .dataframe tbody tr th {\n",
       "        vertical-align: top;\n",
       "    }\n",
       "\n",
       "    .dataframe thead th {\n",
       "        text-align: right;\n",
       "    }\n",
       "</style>\n",
       "<table border=\"1\" class=\"dataframe\">\n",
       "  <thead>\n",
       "    <tr style=\"text-align: right;\">\n",
       "      <th></th>\n",
       "      <th>pclass</th>\n",
       "      <th>survived</th>\n",
       "      <th>age</th>\n",
       "    </tr>\n",
       "  </thead>\n",
       "  <tbody>\n",
       "    <tr>\n",
       "      <th>0</th>\n",
       "      <td>1</td>\n",
       "      <td>1</td>\n",
       "      <td>29.0000</td>\n",
       "    </tr>\n",
       "    <tr>\n",
       "      <th>1</th>\n",
       "      <td>1</td>\n",
       "      <td>1</td>\n",
       "      <td>0.9167</td>\n",
       "    </tr>\n",
       "    <tr>\n",
       "      <th>2</th>\n",
       "      <td>1</td>\n",
       "      <td>0</td>\n",
       "      <td>2.0000</td>\n",
       "    </tr>\n",
       "    <tr>\n",
       "      <th>3</th>\n",
       "      <td>1</td>\n",
       "      <td>0</td>\n",
       "      <td>30.0000</td>\n",
       "    </tr>\n",
       "    <tr>\n",
       "      <th>4</th>\n",
       "      <td>1</td>\n",
       "      <td>0</td>\n",
       "      <td>25.0000</td>\n",
       "    </tr>\n",
       "    <tr>\n",
       "      <th>...</th>\n",
       "      <td>...</td>\n",
       "      <td>...</td>\n",
       "      <td>...</td>\n",
       "    </tr>\n",
       "    <tr>\n",
       "      <th>1304</th>\n",
       "      <td>3</td>\n",
       "      <td>0</td>\n",
       "      <td>14.5000</td>\n",
       "    </tr>\n",
       "    <tr>\n",
       "      <th>1305</th>\n",
       "      <td>3</td>\n",
       "      <td>0</td>\n",
       "      <td>NaN</td>\n",
       "    </tr>\n",
       "    <tr>\n",
       "      <th>1306</th>\n",
       "      <td>3</td>\n",
       "      <td>0</td>\n",
       "      <td>26.5000</td>\n",
       "    </tr>\n",
       "    <tr>\n",
       "      <th>1307</th>\n",
       "      <td>3</td>\n",
       "      <td>0</td>\n",
       "      <td>27.0000</td>\n",
       "    </tr>\n",
       "    <tr>\n",
       "      <th>1308</th>\n",
       "      <td>3</td>\n",
       "      <td>0</td>\n",
       "      <td>29.0000</td>\n",
       "    </tr>\n",
       "  </tbody>\n",
       "</table>\n",
       "<p>1309 rows × 3 columns</p>\n",
       "</div>"
      ],
      "text/plain": [
       "      pclass  survived      age\n",
       "0          1         1  29.0000\n",
       "1          1         1   0.9167\n",
       "2          1         0   2.0000\n",
       "3          1         0  30.0000\n",
       "4          1         0  25.0000\n",
       "...      ...       ...      ...\n",
       "1304       3         0  14.5000\n",
       "1305       3         0      NaN\n",
       "1306       3         0  26.5000\n",
       "1307       3         0  27.0000\n",
       "1308       3         0  29.0000\n",
       "\n",
       "[1309 rows x 3 columns]"
      ]
     },
     "metadata": {},
     "execution_count": 68
    }
   ],
   "metadata": {
    "nbgrader": {
     "grade": true,
     "grade_id": "cell-d3fdbdd8c0af6b49",
     "locked": false,
     "points": 0,
     "schema_version": 3,
     "solution": true
    }
   }
  },
  {
   "cell_type": "markdown",
   "source": [
    "#### 2(f)\n",
    "rubric={points:2}\n",
    "\n",
    "Use the `iloc` method to obtain the first 5 rows of the columns `name`, `sex` and `age` using a single line of code."
   ],
   "metadata": {
    "nbgrader": {
     "grade": false,
     "grade_id": "cell-a7b37913a746262d",
     "locked": true,
     "schema_version": 3,
     "solution": false
    }
   }
  },
  {
   "cell_type": "code",
   "execution_count": 72,
   "source": [
    "# Select first 5 passengers\r\n",
    "subset_beginning = titanic_df[[\"name\",\"sex\",\"age\"]].iloc[:5]\r\n",
    "subset_beginning"
   ],
   "outputs": [
    {
     "output_type": "execute_result",
     "data": {
      "text/html": [
       "<div>\n",
       "<style scoped>\n",
       "    .dataframe tbody tr th:only-of-type {\n",
       "        vertical-align: middle;\n",
       "    }\n",
       "\n",
       "    .dataframe tbody tr th {\n",
       "        vertical-align: top;\n",
       "    }\n",
       "\n",
       "    .dataframe thead th {\n",
       "        text-align: right;\n",
       "    }\n",
       "</style>\n",
       "<table border=\"1\" class=\"dataframe\">\n",
       "  <thead>\n",
       "    <tr style=\"text-align: right;\">\n",
       "      <th></th>\n",
       "      <th>name</th>\n",
       "      <th>sex</th>\n",
       "      <th>age</th>\n",
       "    </tr>\n",
       "  </thead>\n",
       "  <tbody>\n",
       "    <tr>\n",
       "      <th>0</th>\n",
       "      <td>Allen, Miss. Elisabeth Walton</td>\n",
       "      <td>female</td>\n",
       "      <td>29.0000</td>\n",
       "    </tr>\n",
       "    <tr>\n",
       "      <th>1</th>\n",
       "      <td>Allison, Master. Hudson Trevor</td>\n",
       "      <td>male</td>\n",
       "      <td>0.9167</td>\n",
       "    </tr>\n",
       "    <tr>\n",
       "      <th>2</th>\n",
       "      <td>Allison, Miss. Helen Loraine</td>\n",
       "      <td>female</td>\n",
       "      <td>2.0000</td>\n",
       "    </tr>\n",
       "    <tr>\n",
       "      <th>3</th>\n",
       "      <td>Allison, Mr. Hudson Joshua Creighton</td>\n",
       "      <td>male</td>\n",
       "      <td>30.0000</td>\n",
       "    </tr>\n",
       "    <tr>\n",
       "      <th>4</th>\n",
       "      <td>Allison, Mrs. Hudson J C (Bessie Waldo Daniels)</td>\n",
       "      <td>female</td>\n",
       "      <td>25.0000</td>\n",
       "    </tr>\n",
       "  </tbody>\n",
       "</table>\n",
       "</div>"
      ],
      "text/plain": [
       "                                              name     sex      age\n",
       "0                    Allen, Miss. Elisabeth Walton  female  29.0000\n",
       "1                   Allison, Master. Hudson Trevor    male   0.9167\n",
       "2                     Allison, Miss. Helen Loraine  female   2.0000\n",
       "3             Allison, Mr. Hudson Joshua Creighton    male  30.0000\n",
       "4  Allison, Mrs. Hudson J C (Bessie Waldo Daniels)  female  25.0000"
      ]
     },
     "metadata": {},
     "execution_count": 72
    }
   ],
   "metadata": {}
  },
  {
   "cell_type": "code",
   "execution_count": null,
   "source": [],
   "outputs": [],
   "metadata": {
    "nbgrader": {
     "grade": true,
     "grade_id": "cell-a59f3080f818f34a",
     "locked": false,
     "points": 0,
     "schema_version": 3,
     "solution": true
    }
   }
  },
  {
   "cell_type": "markdown",
   "source": [
    "#### 2(g)\n",
    "rubric={points:2}\n",
    "\n",
    "Now use the `loc` method to obtain the first 5 rows of the columns `name`, `sex` and `age` using a single line of code."
   ],
   "metadata": {
    "nbgrader": {
     "grade": false,
     "grade_id": "cell-37f2418e03a50b60",
     "locked": true,
     "schema_version": 3,
     "solution": false
    }
   }
  },
  {
   "cell_type": "code",
   "execution_count": 74,
   "source": [
    "# Select first 5 passengers\r\n",
    "subset_beginning = titanic_df[[\"name\",\"sex\",\"age\"]].loc[:4]\r\n",
    "subset_beginning"
   ],
   "outputs": [
    {
     "output_type": "execute_result",
     "data": {
      "text/html": [
       "<div>\n",
       "<style scoped>\n",
       "    .dataframe tbody tr th:only-of-type {\n",
       "        vertical-align: middle;\n",
       "    }\n",
       "\n",
       "    .dataframe tbody tr th {\n",
       "        vertical-align: top;\n",
       "    }\n",
       "\n",
       "    .dataframe thead th {\n",
       "        text-align: right;\n",
       "    }\n",
       "</style>\n",
       "<table border=\"1\" class=\"dataframe\">\n",
       "  <thead>\n",
       "    <tr style=\"text-align: right;\">\n",
       "      <th></th>\n",
       "      <th>name</th>\n",
       "      <th>sex</th>\n",
       "      <th>age</th>\n",
       "    </tr>\n",
       "  </thead>\n",
       "  <tbody>\n",
       "    <tr>\n",
       "      <th>0</th>\n",
       "      <td>Allen, Miss. Elisabeth Walton</td>\n",
       "      <td>female</td>\n",
       "      <td>29.0000</td>\n",
       "    </tr>\n",
       "    <tr>\n",
       "      <th>1</th>\n",
       "      <td>Allison, Master. Hudson Trevor</td>\n",
       "      <td>male</td>\n",
       "      <td>0.9167</td>\n",
       "    </tr>\n",
       "    <tr>\n",
       "      <th>2</th>\n",
       "      <td>Allison, Miss. Helen Loraine</td>\n",
       "      <td>female</td>\n",
       "      <td>2.0000</td>\n",
       "    </tr>\n",
       "    <tr>\n",
       "      <th>3</th>\n",
       "      <td>Allison, Mr. Hudson Joshua Creighton</td>\n",
       "      <td>male</td>\n",
       "      <td>30.0000</td>\n",
       "    </tr>\n",
       "    <tr>\n",
       "      <th>4</th>\n",
       "      <td>Allison, Mrs. Hudson J C (Bessie Waldo Daniels)</td>\n",
       "      <td>female</td>\n",
       "      <td>25.0000</td>\n",
       "    </tr>\n",
       "  </tbody>\n",
       "</table>\n",
       "</div>"
      ],
      "text/plain": [
       "                                              name     sex      age\n",
       "0                    Allen, Miss. Elisabeth Walton  female  29.0000\n",
       "1                   Allison, Master. Hudson Trevor    male   0.9167\n",
       "2                     Allison, Miss. Helen Loraine  female   2.0000\n",
       "3             Allison, Mr. Hudson Joshua Creighton    male  30.0000\n",
       "4  Allison, Mrs. Hudson J C (Bessie Waldo Daniels)  female  25.0000"
      ]
     },
     "metadata": {},
     "execution_count": 74
    }
   ],
   "metadata": {}
  },
  {
   "cell_type": "code",
   "execution_count": null,
   "source": [],
   "outputs": [],
   "metadata": {
    "nbgrader": {
     "grade": true,
     "grade_id": "cell-01f92751cc57fded",
     "locked": false,
     "points": 0,
     "schema_version": 3,
     "solution": true
    }
   }
  },
  {
   "cell_type": "markdown",
   "source": [
    "#### 2(h)\n",
    "rubric={points:2}\n",
    "\n",
    "How many passengers survived (`survived = 1`) the disaster? Hint: try using `df.query()` or `[]` notation to subset the dataframe and then `df.shape` to check its size."
   ],
   "metadata": {
    "nbgrader": {
     "grade": false,
     "grade_id": "cell-07036a85b1202239",
     "locked": true,
     "schema_version": 3,
     "solution": false
    }
   }
  },
  {
   "cell_type": "code",
   "execution_count": 80,
   "source": [
    "# Count survived passengers\r\n",
    "survived_passengers_df = titanic_df[titanic_df[\"survived\"] == 1]\r\n",
    "print(\"Passengers Survived:\",survived_passengers_df.shape[0])\r\n"
   ],
   "outputs": [
    {
     "output_type": "stream",
     "name": "stdout",
     "text": [
      "Passengers Survived: 500\n"
     ]
    }
   ],
   "metadata": {}
  },
  {
   "cell_type": "code",
   "execution_count": null,
   "source": [],
   "outputs": [],
   "metadata": {
    "nbgrader": {
     "grade": true,
     "grade_id": "cell-5677d8dc540bc7ec",
     "locked": false,
     "points": 0,
     "schema_version": 3,
     "solution": true,
     "task": false
    }
   }
  },
  {
   "cell_type": "markdown",
   "source": [
    "#### 2(i)\n",
    "rubric={points:1}\n",
    "\n",
    "How many passengers that survived the disaster (`survived = 1`) were over 60 years of age?"
   ],
   "metadata": {
    "nbgrader": {
     "grade": false,
     "grade_id": "cell-560ca2c33cf74784",
     "locked": true,
     "schema_version": 3,
     "solution": false
    }
   }
  },
  {
   "cell_type": "code",
   "execution_count": 84,
   "source": [
    "# Count survived passengers over 60 years of age\r\n",
    "survived_passengers_df = titanic_df[(titanic_df[\"survived\"] == 1) & (titanic_df[\"age\"] > 60)]\r\n",
    "print(\"Passengers Survived over 60:\",survived_passengers_df.shape[0])\r\n"
   ],
   "outputs": [
    {
     "output_type": "stream",
     "name": "stdout",
     "text": [
      "Passengers Survived over 60: 8\n"
     ]
    }
   ],
   "metadata": {
    "nbgrader": {
     "grade": true,
     "grade_id": "cell-123d66686c410308",
     "locked": false,
     "points": 0,
     "schema_version": 3,
     "solution": true,
     "task": false
    }
   }
  },
  {
   "cell_type": "markdown",
   "source": [
    "#### 2(j)\n",
    "rubric={points:2}\n",
    "\n",
    "What was the lowest and highest fare paid to board the titanic? Store your answers as floats in the variables `lowest` and `highest`."
   ],
   "metadata": {
    "nbgrader": {
     "grade": false,
     "grade_id": "cell-64aa731d50112f88",
     "locked": true,
     "schema_version": 3,
     "solution": false
    }
   }
  },
  {
   "cell_type": "code",
   "execution_count": 92,
   "source": [
    "# Find lowest and highest fare\r\n",
    "lowest = titanic_df[\"fare\"].min()\r\n",
    "highest = titanic_df[\"fare\"].max()\r\n",
    "print(\"Lowest Fare: $%.2f\"  % lowest)\r\n",
    "print(\"Highest Fare: $%.2f\" % highest)\r\n"
   ],
   "outputs": [
    {
     "output_type": "stream",
     "name": "stdout",
     "text": [
      "Lowest Fare: $0.00\n",
      "Highest Fare: $512.33\n"
     ]
    }
   ],
   "metadata": {
    "nbgrader": {
     "grade": false,
     "grade_id": "cell-54dc8e011e41a6b5",
     "locked": false,
     "schema_version": 3,
     "solution": true
    }
   }
  },
  {
   "cell_type": "markdown",
   "source": [
    "#### 2(k)\n",
    "rubric={points:1}\n",
    "\n",
    "Sort the dataframe by fare paid (most to least)."
   ],
   "metadata": {
    "nbgrader": {
     "grade": false,
     "grade_id": "cell-2f06f5b42b270b44",
     "locked": true,
     "schema_version": 3,
     "solution": false
    }
   }
  },
  {
   "cell_type": "code",
   "execution_count": 97,
   "source": [
    "# Sort by fare, descending order\r\n",
    "sorted_df = titanic_df.sort_values(by=\"fare\", ascending=False)\r\n",
    "sorted_df"
   ],
   "outputs": [
    {
     "output_type": "execute_result",
     "data": {
      "text/html": [
       "<div>\n",
       "<style scoped>\n",
       "    .dataframe tbody tr th:only-of-type {\n",
       "        vertical-align: middle;\n",
       "    }\n",
       "\n",
       "    .dataframe tbody tr th {\n",
       "        vertical-align: top;\n",
       "    }\n",
       "\n",
       "    .dataframe thead th {\n",
       "        text-align: right;\n",
       "    }\n",
       "</style>\n",
       "<table border=\"1\" class=\"dataframe\">\n",
       "  <thead>\n",
       "    <tr style=\"text-align: right;\">\n",
       "      <th></th>\n",
       "      <th>pclass</th>\n",
       "      <th>survived</th>\n",
       "      <th>name</th>\n",
       "      <th>sex</th>\n",
       "      <th>age</th>\n",
       "      <th>siblings_spouses</th>\n",
       "      <th>parents_children</th>\n",
       "      <th>ticket</th>\n",
       "      <th>fare</th>\n",
       "      <th>cabin</th>\n",
       "      <th>embarked</th>\n",
       "      <th>boat</th>\n",
       "      <th>body</th>\n",
       "      <th>home.dest</th>\n",
       "    </tr>\n",
       "  </thead>\n",
       "  <tbody>\n",
       "    <tr>\n",
       "      <th>183</th>\n",
       "      <td>1</td>\n",
       "      <td>1</td>\n",
       "      <td>Lesurer, Mr. Gustave J</td>\n",
       "      <td>male</td>\n",
       "      <td>35.0</td>\n",
       "      <td>0</td>\n",
       "      <td>0</td>\n",
       "      <td>PC 17755</td>\n",
       "      <td>512.3292</td>\n",
       "      <td>B101</td>\n",
       "      <td>C</td>\n",
       "      <td>3</td>\n",
       "      <td>NaN</td>\n",
       "      <td>NaN</td>\n",
       "    </tr>\n",
       "    <tr>\n",
       "      <th>302</th>\n",
       "      <td>1</td>\n",
       "      <td>1</td>\n",
       "      <td>Ward, Miss. Anna</td>\n",
       "      <td>female</td>\n",
       "      <td>35.0</td>\n",
       "      <td>0</td>\n",
       "      <td>0</td>\n",
       "      <td>PC 17755</td>\n",
       "      <td>512.3292</td>\n",
       "      <td>NaN</td>\n",
       "      <td>C</td>\n",
       "      <td>3</td>\n",
       "      <td>NaN</td>\n",
       "      <td>NaN</td>\n",
       "    </tr>\n",
       "    <tr>\n",
       "      <th>49</th>\n",
       "      <td>1</td>\n",
       "      <td>1</td>\n",
       "      <td>Cardeza, Mr. Thomas Drake Martinez</td>\n",
       "      <td>male</td>\n",
       "      <td>36.0</td>\n",
       "      <td>0</td>\n",
       "      <td>1</td>\n",
       "      <td>PC 17755</td>\n",
       "      <td>512.3292</td>\n",
       "      <td>B51 B53 B55</td>\n",
       "      <td>C</td>\n",
       "      <td>3</td>\n",
       "      <td>NaN</td>\n",
       "      <td>Austria-Hungary / Germantown, Philadelphia, PA</td>\n",
       "    </tr>\n",
       "    <tr>\n",
       "      <th>50</th>\n",
       "      <td>1</td>\n",
       "      <td>1</td>\n",
       "      <td>Cardeza, Mrs. James Warburton Martinez (Charlo...</td>\n",
       "      <td>female</td>\n",
       "      <td>58.0</td>\n",
       "      <td>0</td>\n",
       "      <td>1</td>\n",
       "      <td>PC 17755</td>\n",
       "      <td>512.3292</td>\n",
       "      <td>B51 B53 B55</td>\n",
       "      <td>C</td>\n",
       "      <td>3</td>\n",
       "      <td>NaN</td>\n",
       "      <td>Germantown, Philadelphia, PA</td>\n",
       "    </tr>\n",
       "    <tr>\n",
       "      <th>113</th>\n",
       "      <td>1</td>\n",
       "      <td>1</td>\n",
       "      <td>Fortune, Miss. Mabel Helen</td>\n",
       "      <td>female</td>\n",
       "      <td>23.0</td>\n",
       "      <td>3</td>\n",
       "      <td>2</td>\n",
       "      <td>19950</td>\n",
       "      <td>263.0000</td>\n",
       "      <td>C23 C25 C27</td>\n",
       "      <td>S</td>\n",
       "      <td>10</td>\n",
       "      <td>NaN</td>\n",
       "      <td>Winnipeg, MB</td>\n",
       "    </tr>\n",
       "    <tr>\n",
       "      <th>...</th>\n",
       "      <td>...</td>\n",
       "      <td>...</td>\n",
       "      <td>...</td>\n",
       "      <td>...</td>\n",
       "      <td>...</td>\n",
       "      <td>...</td>\n",
       "      <td>...</td>\n",
       "      <td>...</td>\n",
       "      <td>...</td>\n",
       "      <td>...</td>\n",
       "      <td>...</td>\n",
       "      <td>...</td>\n",
       "      <td>...</td>\n",
       "      <td>...</td>\n",
       "    </tr>\n",
       "    <tr>\n",
       "      <th>363</th>\n",
       "      <td>2</td>\n",
       "      <td>0</td>\n",
       "      <td>Campbell, Mr. William</td>\n",
       "      <td>male</td>\n",
       "      <td>NaN</td>\n",
       "      <td>0</td>\n",
       "      <td>0</td>\n",
       "      <td>239853</td>\n",
       "      <td>0.0000</td>\n",
       "      <td>NaN</td>\n",
       "      <td>S</td>\n",
       "      <td>NaN</td>\n",
       "      <td>NaN</td>\n",
       "      <td>Belfast</td>\n",
       "    </tr>\n",
       "    <tr>\n",
       "      <th>384</th>\n",
       "      <td>2</td>\n",
       "      <td>0</td>\n",
       "      <td>Cunningham, Mr. Alfred Fleming</td>\n",
       "      <td>male</td>\n",
       "      <td>NaN</td>\n",
       "      <td>0</td>\n",
       "      <td>0</td>\n",
       "      <td>239853</td>\n",
       "      <td>0.0000</td>\n",
       "      <td>NaN</td>\n",
       "      <td>S</td>\n",
       "      <td>NaN</td>\n",
       "      <td>NaN</td>\n",
       "      <td>Belfast</td>\n",
       "    </tr>\n",
       "    <tr>\n",
       "      <th>581</th>\n",
       "      <td>2</td>\n",
       "      <td>0</td>\n",
       "      <td>Watson, Mr. Ennis Hastings</td>\n",
       "      <td>male</td>\n",
       "      <td>NaN</td>\n",
       "      <td>0</td>\n",
       "      <td>0</td>\n",
       "      <td>239856</td>\n",
       "      <td>0.0000</td>\n",
       "      <td>NaN</td>\n",
       "      <td>S</td>\n",
       "      <td>NaN</td>\n",
       "      <td>NaN</td>\n",
       "      <td>Belfast</td>\n",
       "    </tr>\n",
       "    <tr>\n",
       "      <th>410</th>\n",
       "      <td>2</td>\n",
       "      <td>0</td>\n",
       "      <td>Frost, Mr. Anthony Wood \"Archie\"</td>\n",
       "      <td>male</td>\n",
       "      <td>NaN</td>\n",
       "      <td>0</td>\n",
       "      <td>0</td>\n",
       "      <td>239854</td>\n",
       "      <td>0.0000</td>\n",
       "      <td>NaN</td>\n",
       "      <td>S</td>\n",
       "      <td>NaN</td>\n",
       "      <td>NaN</td>\n",
       "      <td>Belfast</td>\n",
       "    </tr>\n",
       "    <tr>\n",
       "      <th>1225</th>\n",
       "      <td>3</td>\n",
       "      <td>0</td>\n",
       "      <td>Storey, Mr. Thomas</td>\n",
       "      <td>male</td>\n",
       "      <td>60.5</td>\n",
       "      <td>0</td>\n",
       "      <td>0</td>\n",
       "      <td>3701</td>\n",
       "      <td>NaN</td>\n",
       "      <td>NaN</td>\n",
       "      <td>S</td>\n",
       "      <td>NaN</td>\n",
       "      <td>261.0</td>\n",
       "      <td>NaN</td>\n",
       "    </tr>\n",
       "  </tbody>\n",
       "</table>\n",
       "<p>1309 rows × 14 columns</p>\n",
       "</div>"
      ],
      "text/plain": [
       "      pclass  survived                                               name  \\\n",
       "183        1         1                             Lesurer, Mr. Gustave J   \n",
       "302        1         1                                   Ward, Miss. Anna   \n",
       "49         1         1                 Cardeza, Mr. Thomas Drake Martinez   \n",
       "50         1         1  Cardeza, Mrs. James Warburton Martinez (Charlo...   \n",
       "113        1         1                         Fortune, Miss. Mabel Helen   \n",
       "...      ...       ...                                                ...   \n",
       "363        2         0                              Campbell, Mr. William   \n",
       "384        2         0                     Cunningham, Mr. Alfred Fleming   \n",
       "581        2         0                         Watson, Mr. Ennis Hastings   \n",
       "410        2         0                   Frost, Mr. Anthony Wood \"Archie\"   \n",
       "1225       3         0                                 Storey, Mr. Thomas   \n",
       "\n",
       "         sex   age  siblings_spouses  parents_children    ticket      fare  \\\n",
       "183     male  35.0                 0                 0  PC 17755  512.3292   \n",
       "302   female  35.0                 0                 0  PC 17755  512.3292   \n",
       "49      male  36.0                 0                 1  PC 17755  512.3292   \n",
       "50    female  58.0                 0                 1  PC 17755  512.3292   \n",
       "113   female  23.0                 3                 2     19950  263.0000   \n",
       "...      ...   ...               ...               ...       ...       ...   \n",
       "363     male   NaN                 0                 0    239853    0.0000   \n",
       "384     male   NaN                 0                 0    239853    0.0000   \n",
       "581     male   NaN                 0                 0    239856    0.0000   \n",
       "410     male   NaN                 0                 0    239854    0.0000   \n",
       "1225    male  60.5                 0                 0      3701       NaN   \n",
       "\n",
       "            cabin embarked boat   body  \\\n",
       "183          B101        C    3    NaN   \n",
       "302           NaN        C    3    NaN   \n",
       "49    B51 B53 B55        C    3    NaN   \n",
       "50    B51 B53 B55        C    3    NaN   \n",
       "113   C23 C25 C27        S   10    NaN   \n",
       "...           ...      ...  ...    ...   \n",
       "363           NaN        S  NaN    NaN   \n",
       "384           NaN        S  NaN    NaN   \n",
       "581           NaN        S  NaN    NaN   \n",
       "410           NaN        S  NaN    NaN   \n",
       "1225          NaN        S  NaN  261.0   \n",
       "\n",
       "                                           home.dest  \n",
       "183                                              NaN  \n",
       "302                                              NaN  \n",
       "49    Austria-Hungary / Germantown, Philadelphia, PA  \n",
       "50                      Germantown, Philadelphia, PA  \n",
       "113                                     Winnipeg, MB  \n",
       "...                                              ...  \n",
       "363                                          Belfast  \n",
       "384                                          Belfast  \n",
       "581                                          Belfast  \n",
       "410                                          Belfast  \n",
       "1225                                             NaN  \n",
       "\n",
       "[1309 rows x 14 columns]"
      ]
     },
     "metadata": {},
     "execution_count": 97
    }
   ],
   "metadata": {}
  },
  {
   "cell_type": "markdown",
   "source": [
    "#### 2(l)\n",
    "rubric={points:1}\n",
    "\n",
    "Save the sorted dataframe to a .csv file called 'titanic_fares.csv' using `to_csv()`."
   ],
   "metadata": {}
  },
  {
   "cell_type": "code",
   "execution_count": 99,
   "source": [
    "sorted_df.to_csv(\"data\\\\titanic_fares.csv\")"
   ],
   "outputs": [],
   "metadata": {
    "nbgrader": {
     "grade": true,
     "grade_id": "cell-4be555e930c36650",
     "locked": false,
     "points": 0,
     "schema_version": 3,
     "solution": true
    }
   }
  },
  {
   "cell_type": "markdown",
   "source": [
    "#### 2(m)\n",
    "rubric={points:3}\n",
    "\n",
    "Create a scatter plot of fare (y-axis) vs. age (x-axis). Make sure to follow the [guidelines on figures](https://github.com/UBC-CS/cpsc330/blob/master/docs/homework_instructions.md#figures). You are welcome to use pandas built-in plotting or `matplotlib`. "
   ],
   "metadata": {}
  },
  {
   "cell_type": "code",
   "execution_count": 103,
   "source": [
    "plt.scatter(titanic_df[\"age\"], titanic_df[\"fare\"])\r\n",
    "plt.title(\"Age vs Fare Paid\")\r\n",
    "plt.xlabel(\"Age [Years]\")\r\n",
    "plt.ylabel(\"Fare [$]\")"
   ],
   "outputs": [
    {
     "output_type": "execute_result",
     "data": {
      "text/plain": [
       "Text(0, 0.5, 'Fare [$]')"
      ]
     },
     "metadata": {},
     "execution_count": 103
    },
    {
     "output_type": "display_data",
     "data": {
      "image/png": "[encoded data removed]",
      "text/plain": [
       "<Figure size 432x288 with 1 Axes>"
      ]
     },
     "metadata": {
      "needs_background": "light"
     }
    }
   ],
   "metadata": {}
  },
  {
   "cell_type": "markdown",
   "source": [
    "#### 2(n)\n",
    "rubric={points:3}\n",
    "\n",
    "Create a bar plot of `embarked` values. \n",
    "\n",
    "> Make sure to name the axes and give a title to your plot. "
   ],
   "metadata": {}
  },
  {
   "cell_type": "code",
   "execution_count": 119,
   "source": [
    "val_counts = titanic_df[\"embarked\"].value_counts()\r\n",
    "plt.bar(val_counts.index, val_counts)\r\n",
    "plt.title(\"Embarked Value Counts\")\r\n",
    "plt.xlabel(\"Embarked\")\r\n",
    "plt.ylabel(\"Count\")"
   ],
   "outputs": [
    {
     "output_type": "execute_result",
     "data": {
      "text/plain": [
       "Text(0, 0.5, 'Count')"
      ]
     },
     "metadata": {},
     "execution_count": 119
    },
    {
     "output_type": "display_data",
     "data": {
      "image/png": "[encoded data removed]",
      "text/plain": [
       "<Figure size 432x288 with 1 Axes>"
      ]
     },
     "metadata": {
      "needs_background": "light"
     }
    }
   ],
   "metadata": {}
  },
  {
   "cell_type": "markdown",
   "source": [
    "<br><br>"
   ],
   "metadata": {}
  },
  {
   "cell_type": "markdown",
   "source": [
    "## Exercise 3: Treasure Hunt\n",
    "\n",
    "In this exercise, we will generate various collections of objects either as a list, a tuple, or a dictionary. Your task is to inspect the objects and look for treasure, which in our case is a particular object: **the character \"T\"**. \n",
    "\n",
    "**Your tasks:**\n",
    "\n",
    "For each of the following cases, index into the Python object to obtain the \"T\" (for Treasure). \n",
    "\n",
    "> Please do not modify the original line of code that generates `x` (though you are welcome to copy it). You are welcome to answer this question \"manually\" or by writing code - whatever works for you. However, your submission should always end with a line of code that prints out `'T'` at the end (because you've found it). "
   ],
   "metadata": {}
  },
  {
   "cell_type": "code",
   "execution_count": 120,
   "source": [
    "import string\r\n",
    "\r\n",
    "letters = string.ascii_uppercase"
   ],
   "outputs": [],
   "metadata": {}
  },
  {
   "cell_type": "markdown",
   "source": [
    "The first one is done for you as an example."
   ],
   "metadata": {}
  },
  {
   "cell_type": "markdown",
   "source": [
    "#### Example question"
   ],
   "metadata": {}
  },
  {
   "cell_type": "code",
   "execution_count": 121,
   "source": [
    "x = (\"nothing\", {-i: l for i, l in enumerate(letters)})\r\n",
    "x"
   ],
   "outputs": [
    {
     "output_type": "execute_result",
     "data": {
      "text/plain": [
       "('nothing',\n",
       " {0: 'A',\n",
       "  -1: 'B',\n",
       "  -2: 'C',\n",
       "  -3: 'D',\n",
       "  -4: 'E',\n",
       "  -5: 'F',\n",
       "  -6: 'G',\n",
       "  -7: 'H',\n",
       "  -8: 'I',\n",
       "  -9: 'J',\n",
       "  -10: 'K',\n",
       "  -11: 'L',\n",
       "  -12: 'M',\n",
       "  -13: 'N',\n",
       "  -14: 'O',\n",
       "  -15: 'P',\n",
       "  -16: 'Q',\n",
       "  -17: 'R',\n",
       "  -18: 'S',\n",
       "  -19: 'T',\n",
       "  -20: 'U',\n",
       "  -21: 'V',\n",
       "  -22: 'W',\n",
       "  -23: 'X',\n",
       "  -24: 'Y',\n",
       "  -25: 'Z'})"
      ]
     },
     "metadata": {},
     "execution_count": 121
    }
   ],
   "metadata": {}
  },
  {
   "cell_type": "markdown",
   "source": [
    "**Example answer**:"
   ],
   "metadata": {}
  },
  {
   "cell_type": "code",
   "execution_count": 122,
   "source": [
    "x[1][-19]"
   ],
   "outputs": [
    {
     "output_type": "execute_result",
     "data": {
      "text/plain": [
       "'T'"
      ]
     },
     "metadata": {},
     "execution_count": 122
    }
   ],
   "metadata": {}
  },
  {
   "cell_type": "markdown",
   "source": [
    "> Note: In these questions, the goal is not to understand the code itself, which may be confusing. Instead, try to probe the types of the various objects. For example `type(x)` reveals that `x` is a tuple, and `len(x)` reveals that it has two elements. Element 0 just contains \"nothing\", but element 1 contains more stuff, hence `x[1]`. Then we can again probe `type(x[1])` and see that it's a dictionary. If you `print(x[1])` you'll see that the letter \"T\" corresponds to the key -19, hence `x[1][-19]`."
   ],
   "metadata": {}
  },
  {
   "cell_type": "markdown",
   "source": [
    "#### 3(a)\n",
    "rubric={points:2}"
   ],
   "metadata": {}
  },
  {
   "cell_type": "code",
   "execution_count": 123,
   "source": [
    "# Do not modify this cell\r\n",
    "x = [\r\n",
    "    [letters[i] for i in range(26) if i % 2 == 0],\r\n",
    "    [letters[i] for i in range(26) if i % 2 == 1],\r\n",
    "]"
   ],
   "outputs": [],
   "metadata": {}
  },
  {
   "cell_type": "code",
   "execution_count": 125,
   "source": [
    "x[1][9]\r\n"
   ],
   "outputs": [
    {
     "output_type": "execute_result",
     "data": {
      "text/plain": [
       "'T'"
      ]
     },
     "metadata": {},
     "execution_count": 125
    }
   ],
   "metadata": {}
  },
  {
   "cell_type": "markdown",
   "source": [
    "#### 3(b)\n",
    "rubric={points:2}"
   ],
   "metadata": {}
  },
  {
   "cell_type": "code",
   "execution_count": 126,
   "source": [
    "# Do not modify this cell\r\n",
    "np.random.seed(1)\r\n",
    "x = np.random.choice(list(set(letters) - set(\"T\")), size=(100, 26), replace=True)\r\n",
    "x[np.random.randint(100), np.random.randint(26)] = \"T\""
   ],
   "outputs": [],
   "metadata": {}
  },
  {
   "cell_type": "code",
   "execution_count": 143,
   "source": [
    "i_found = None\r\n",
    "j_found = None\r\n",
    "\r\n",
    "for i in range(len(x)):\r\n",
    "    for j in range(len(x[0])):\r\n",
    "        if(x[i][j] == 'T'):\r\n",
    "            i_found = i\r\n",
    "            j_found = j\r\n",
    "\r\n",
    "x[i_found][j_found]"
   ],
   "outputs": [
    {
     "output_type": "execute_result",
     "data": {
      "text/plain": [
       "'T'"
      ]
     },
     "metadata": {},
     "execution_count": 143
    }
   ],
   "metadata": {}
  },
  {
   "cell_type": "markdown",
   "source": [
    "#### 3(c)\n",
    "rubric={points:3}"
   ],
   "metadata": {}
  },
  {
   "cell_type": "code",
   "execution_count": 144,
   "source": [
    "# Do not modify this cell\r\n",
    "n = 26\r\n",
    "x = dict()\r\n",
    "for i in range(n):\r\n",
    "    x[string.ascii_lowercase[i]] = {\r\n",
    "        string.ascii_lowercase[(j + 1) % n]: [[letters[j]] if j - 2 == i else None]\r\n",
    "        for j in range(n)\r\n",
    "    }"
   ],
   "outputs": [],
   "metadata": {}
  },
  {
   "cell_type": "code",
   "execution_count": 159,
   "source": [
    "x['c']"
   ],
   "outputs": [
    {
     "output_type": "execute_result",
     "data": {
      "text/plain": [
       "{'b': [None],\n",
       " 'c': [None],\n",
       " 'd': [None],\n",
       " 'e': [None],\n",
       " 'f': [['E']],\n",
       " 'g': [None],\n",
       " 'h': [None],\n",
       " 'i': [None],\n",
       " 'j': [None],\n",
       " 'k': [None],\n",
       " 'l': [None],\n",
       " 'm': [None],\n",
       " 'n': [None],\n",
       " 'o': [None],\n",
       " 'p': [None],\n",
       " 'q': [None],\n",
       " 'r': [None],\n",
       " 's': [None],\n",
       " 't': [None],\n",
       " 'u': [None],\n",
       " 'v': [None],\n",
       " 'w': [None],\n",
       " 'x': [None],\n",
       " 'y': [None],\n",
       " 'z': [None],\n",
       " 'a': [None]}"
      ]
     },
     "metadata": {},
     "execution_count": 159
    }
   ],
   "metadata": {}
  },
  {
   "cell_type": "code",
   "execution_count": 166,
   "source": [
    "for key, value in x.items():\r\n",
    "    for inside_key, inside_value in x[key].items():\r\n",
    "        if(inside_value == [['T']]):\r\n",
    "            print(inside_value[0][0])\r\n"
   ],
   "outputs": [
    {
     "output_type": "stream",
     "name": "stdout",
     "text": [
      "T\n"
     ]
    }
   ],
   "metadata": {}
  },
  {
   "cell_type": "code",
   "execution_count": null,
   "source": [],
   "outputs": [],
   "metadata": {}
  },
  {
   "cell_type": "markdown",
   "source": [
    "<br><br><br><br>"
   ],
   "metadata": {}
  },
  {
   "cell_type": "markdown",
   "source": [
    "## Submission instructions \n",
    "\n",
    "**PLEASE READ:** When you are ready to submit your assignment do the following:\n",
    "\n",
    "1. Run all cells in your notebook to make sure there are no errors by doing `Kernel -> Restart Kernel and Clear All Outputs` and then `Run -> Run All Cells`. \n",
    "2. Notebooks with cell execution numbers out of order or not starting from “1” will have marks deducted. Notebooks without the output displayed may not be graded at all (because we need to see the output in order to grade your work).\n",
    "3. Upload the assignment using Gradescope's drag and drop tool. Check out this [Gradescope Student Guide](https://lthub.ubc.ca/guides/gradescope-student-guide/) if you need help with Gradescope submission. "
   ],
   "metadata": {}
  },
  {
   "cell_type": "markdown",
   "source": [
    "![](eva-congrats.png)"
   ],
   "metadata": {}
  },
  {
   "cell_type": "code",
   "execution_count": null,
   "source": [],
   "outputs": [],
   "metadata": {}
  }
 ],
 "metadata": {
  "anaconda-cloud": {},
  "kernelspec": {
   "name": "python3",
   "display_name": "Python 3.6.5 32-bit"
  },
  "language_info": {
   "codemirror_mode": {
    "name": "ipython",
    "version": 3
   },
   "file_extension": ".py",
   "mimetype": "text/x-python",
   "name": "python",
   "nbconvert_exporter": "python",
   "pygments_lexer": "ipython3",
   "version": "3.6.5"
  },
  "interpreter": {
   "hash": "81a7fb1f78ea96af2623539b8b12c77006757588e021ce013653788b1bcc3527"
  }
 },
 "nbformat": 4,
 "nbformat_minor": 4
}